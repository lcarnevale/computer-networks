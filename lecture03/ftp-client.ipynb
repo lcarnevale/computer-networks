{
 "cells": [
  {
   "cell_type": "markdown",
   "metadata": {},
   "source": [
    "# FTP Client\n",
    "Import the library to start creating the client"
   ]
  },
  {
   "cell_type": "code",
   "execution_count": 78,
   "metadata": {},
   "outputs": [],
   "source": [
    "from ftplib import FTP"
   ]
  },
  {
   "cell_type": "markdown",
   "metadata": {},
   "source": [
    "The ftplib.FTP() creates a new instance of the FTP class. \n",
    "\n",
    "When host and port are given, a connection to the host is made with the connect() method."
   ]
  },
  {
   "cell_type": "code",
   "execution_count": 79,
   "metadata": {},
   "outputs": [
    {
     "data": {
      "text/plain": [
       "'220 pyftpdlib based ftpd ready.'"
      ]
     },
     "execution_count": 79,
     "metadata": {},
     "output_type": "execute_result"
    }
   ],
   "source": [
    "ftp = FTP()\n",
    "ftp.connect('localhost', 2121)"
   ]
  },
  {
   "cell_type": "code",
   "execution_count": 80,
   "metadata": {},
   "outputs": [
    {
     "data": {
      "text/plain": [
       "'230 Login successful.'"
      ]
     },
     "execution_count": 80,
     "metadata": {},
     "output_type": "execute_result"
    }
   ],
   "source": [
    "ftp.login(user='lcarnevale', passwd='lcarnevale')"
   ]
  },
  {
   "cell_type": "markdown",
   "metadata": {},
   "source": [
    "The getwelcome() returns the welcome message sent by the server in reply to the initial connection. This message may contain some helpful information for the user."
   ]
  },
  {
   "cell_type": "code",
   "execution_count": 81,
   "metadata": {},
   "outputs": [
    {
     "data": {
      "text/plain": [
       "'220 pyftpdlib based ftpd ready.'"
      ]
     },
     "execution_count": 81,
     "metadata": {},
     "output_type": "execute_result"
    }
   ],
   "source": [
    "ftp.getwelcome()"
   ]
  },
  {
   "cell_type": "markdown",
   "metadata": {},
   "source": [
    "## Working with Directory\n",
    "Once connected, it is interesting to know where you are in the directory structure. The pwd() function on the ftplib.FTP object provides this data."
   ]
  },
  {
   "cell_type": "code",
   "execution_count": 82,
   "metadata": {},
   "outputs": [
    {
     "data": {
      "text/plain": [
       "'/'"
      ]
     },
     "execution_count": 82,
     "metadata": {},
     "output_type": "execute_result"
    }
   ],
   "source": [
    "ftp.pwd()"
   ]
  },
  {
   "cell_type": "markdown",
   "metadata": {},
   "source": [
    "The next basic task you will probably want to do is list the files in a directory. The ftplib.FTP.dir() command will list all the files in your current directory.\n",
    "\n",
    "It does not just provide the filename though, it provides a string that contains the permissions, whether it is a directory, byte size, modification timestamp, owner, and group information. It is formatted just like the output from an ls command. Since the output is a string, you will have to parse out the information from it manually using split() or regular expressions."
   ]
  },
  {
   "cell_type": "code",
   "execution_count": 83,
   "metadata": {},
   "outputs": [
    {
     "name": "stdout",
     "output_type": "stream",
     "text": [
      "-rw-rw-r--   1 lcarnevale lcarnevale   146534 Nov 18 18:33 image-uploaded.jpg\n",
      "-rw-rw-r--   1 lcarnevale lcarnevale       22 Nov 18 17:34 sample.txt\n",
      "-rw-rw-r--   1 lcarnevale lcarnevale       53 Nov 18 18:33 text-renamed.txt\n"
     ]
    }
   ],
   "source": [
    "files = []\n",
    "ftp.dir(files.append)\n",
    "for file in files:\n",
    "    print(file)"
   ]
  },
  {
   "cell_type": "markdown",
   "metadata": {},
   "source": [
    "Let's create a directory using ftplib.FTP.mkd() and pass it the name of the directory. It will return a string containing the name of the directory created."
   ]
  },
  {
   "cell_type": "code",
   "execution_count": 84,
   "metadata": {},
   "outputs": [
    {
     "data": {
      "text/plain": [
       "'/new-folder'"
      ]
     },
     "execution_count": 84,
     "metadata": {},
     "output_type": "execute_result"
    }
   ],
   "source": [
    "ftp.mkd('new-folder')"
   ]
  },
  {
   "cell_type": "markdown",
   "metadata": {},
   "source": [
    "To switch to a different directory, use ftplib.FTP.cwd()"
   ]
  },
  {
   "cell_type": "code",
   "execution_count": 85,
   "metadata": {},
   "outputs": [
    {
     "data": {
      "text/plain": [
       "'250 \"/new-folder\" is the current directory.'"
      ]
     },
     "execution_count": 85,
     "metadata": {},
     "output_type": "execute_result"
    }
   ],
   "source": [
    "ftp.cwd('new-folder')"
   ]
  },
  {
   "cell_type": "markdown",
   "metadata": {},
   "source": [
    "Get back to '/' directory"
   ]
  },
  {
   "cell_type": "code",
   "execution_count": 86,
   "metadata": {},
   "outputs": [
    {
     "data": {
      "text/plain": [
       "'250 \"/\" is the current directory.'"
      ]
     },
     "execution_count": 86,
     "metadata": {},
     "output_type": "execute_result"
    }
   ],
   "source": [
    "ftp.cwd('..')"
   ]
  },
  {
   "cell_type": "markdown",
   "metadata": {},
   "source": [
    "To remove a directory, just use rmd() on your FTP object. A directory must be empty to delete it."
   ]
  },
  {
   "cell_type": "code",
   "execution_count": 87,
   "metadata": {},
   "outputs": [
    {
     "data": {
      "text/plain": [
       "'250 Directory removed.'"
      ]
     },
     "execution_count": 87,
     "metadata": {},
     "output_type": "execute_result"
    }
   ],
   "source": [
    "ftp.rmd('new-folder')"
   ]
  },
  {
   "cell_type": "markdown",
   "metadata": {},
   "source": [
    "## Working with Files\n",
    "For text files use storlines() and for binary use storbinary()"
   ]
  },
  {
   "cell_type": "code",
   "execution_count": 88,
   "metadata": {},
   "outputs": [],
   "source": [
    "# For text or binary file, always use `rb`\n",
    "with open('to-upload/text-to-upload.txt', 'rb') as text_file:\n",
    "    ftp.storlines('STOR text-uploaded.txt', text_file)\n",
    "with open('to-upload/image-to-upload.jpg', 'rb') as image_file:\n",
    "    ftp.storbinary('STOR image-uploaded.jpg', image_file)"
   ]
  },
  {
   "cell_type": "markdown",
   "metadata": {},
   "source": [
    "To check the size of a file on a remote FTP server, you can simply use the size() function as demonstrated in the following example.\n",
    "\n",
    "Depending on whether you want to check a text file or a binary file, you want to tell the FTP server what type you want to use. Use sendcmd() and pass the type with either TYPE I for image/binary data or TYPE A for ASCII text.\n",
    "\n",
    "The size() function will return the size of the file in bytes."
   ]
  },
  {
   "cell_type": "code",
   "execution_count": 89,
   "metadata": {},
   "outputs": [
    {
     "name": "stdout",
     "output_type": "stream",
     "text": [
      "146534\n",
      "53\n"
     ]
    }
   ],
   "source": [
    "try:\n",
    "    # \"Image\" or binary data\n",
    "    ftp.sendcmd('TYPE I')\n",
    "    print(ftp.size('image-uploaded.jpg'))\n",
    "except all_errors as error:\n",
    "    print(f\"Error checking image size: {error}\")\n",
    "\n",
    "try:\n",
    "    # \"ASCII\" text\n",
    "    ftp.sendcmd('TYPE I')  \n",
    "    print(ftp.size('text-uploaded.txt'))\n",
    "except all_errors as error:\n",
    "    print(f\"Error checking text file size: {error}\")"
   ]
  },
  {
   "cell_type": "markdown",
   "metadata": {},
   "source": [
    "To rename a file on a remote FTP server, use the rename() function and pass the original filename and the new filename."
   ]
  },
  {
   "cell_type": "code",
   "execution_count": 90,
   "metadata": {},
   "outputs": [],
   "source": [
    "try:\n",
    "    ftp.rename('text-uploaded.txt', 'text-renamed.txt')\n",
    "except all_errors as error:\n",
    "    print(f'Error renaming file on server: {error}')"
   ]
  },
  {
   "cell_type": "code",
   "execution_count": 91,
   "metadata": {},
   "outputs": [
    {
     "name": "stdout",
     "output_type": "stream",
     "text": [
      "Transfer complete\n",
      "Transfer complete\n"
     ]
    }
   ],
   "source": [
    "# For text files\n",
    "with open('to-upload/text-downloaded.txt', 'w') as local_file:\n",
    "    response = ftp.retrlines('RETR text-renamed.txt', local_file.write)\n",
    "    # Check the response code\n",
    "    # https://en.wikipedia.org/wiki/List_of_FTP_server_return_codes\n",
    "    if response.startswith('226'):  # Transfer complete\n",
    "        print('Transfer complete')\n",
    "    else:\n",
    "        print('Error transferring. Local file may be incomplete or corrupt.')\n",
    "\n",
    "# For binary use `retrbinary()`\n",
    "with open('to-upload/image-downloaded.jpg', 'wb') as local_file:\n",
    "    response = ftp.retrbinary('RETR image-uploaded.jpg', local_file.write)\n",
    "    if response.startswith('226'):  # Transfer complete\n",
    "        print('Transfer complete')\n",
    "    else:\n",
    "        print('Error transferring. Local file may be incomplete or corrupt.')"
   ]
  },
  {
   "cell_type": "markdown",
   "metadata": {},
   "source": [
    "To delete a remote file, use the delete() function and give it the filename you want to delete. You cannot delete directories with this. For directories, you must use rmd() as shown in the example earlier."
   ]
  },
  {
   "cell_type": "code",
   "execution_count": 92,
   "metadata": {},
   "outputs": [],
   "source": [
    "try:\n",
    "    ftp.delete('text-renamed.txt')\n",
    "except all_errors as error:\n",
    "    print(f'Error deleting file: {error}') "
   ]
  }
 ],
 "metadata": {
  "interpreter": {
   "hash": "b9922002cc78a9f83d8b1bc93d4f293401ad25fafc5cee4cf2ba451e6438ada8"
  },
  "kernelspec": {
   "display_name": "Python 3.8.5 64-bit ('venv': venv)",
   "name": "python3"
  },
  "language_info": {
   "codemirror_mode": {
    "name": "ipython",
    "version": 3
   },
   "file_extension": ".py",
   "mimetype": "text/x-python",
   "name": "python",
   "nbconvert_exporter": "python",
   "pygments_lexer": "ipython3",
   "version": "3.8.5"
  },
  "orig_nbformat": 4
 },
 "nbformat": 4,
 "nbformat_minor": 2
}
